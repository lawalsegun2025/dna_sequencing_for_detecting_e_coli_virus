{
 "cells": [
  {
   "cell_type": "markdown",
   "id": "677346e8",
   "metadata": {},
   "source": [
    "# DNA Sequencing for Detecting E.coli Virus"
   ]
  },
  {
   "cell_type": "code",
   "execution_count": 1,
   "id": "b09ea808",
   "metadata": {},
   "outputs": [],
   "source": [
    "# import libriaries\n",
    "import numpy as np \n",
    "import pandas as pd\n",
    "import matplotlib.pyplot as plt \n",
    "import seaborn as sns \n",
    "from sklearn.preprocessing import OneHotEncoder\n",
    "import pickle \n",
    "from sklearn.neural_network import MLPClassifier \n",
    "from sklearn.metrics import classification_report, accuracy_score \n",
    "from sklearn.model_selection import train_test_split \n",
    "from sklearn.metrics import confusion_matrix, ConfusionMatrixDisplay "
   ]
  },
  {
   "cell_type": "code",
   "execution_count": 2,
   "id": "05486fcb",
   "metadata": {},
   "outputs": [
    {
     "data": {
      "text/html": [
       "<div>\n",
       "<style scoped>\n",
       "    .dataframe tbody tr th:only-of-type {\n",
       "        vertical-align: middle;\n",
       "    }\n",
       "\n",
       "    .dataframe tbody tr th {\n",
       "        vertical-align: top;\n",
       "    }\n",
       "\n",
       "    .dataframe thead th {\n",
       "        text-align: right;\n",
       "    }\n",
       "</style>\n",
       "<table border=\"1\" class=\"dataframe\">\n",
       "  <thead>\n",
       "    <tr style=\"text-align: right;\">\n",
       "      <th></th>\n",
       "      <th>Class</th>\n",
       "      <th>id</th>\n",
       "      <th>Sequence</th>\n",
       "    </tr>\n",
       "  </thead>\n",
       "  <tbody>\n",
       "    <tr>\n",
       "      <th>0</th>\n",
       "      <td>+</td>\n",
       "      <td>S10</td>\n",
       "      <td>\\t\\ttactagcaatacgcttgcgttcggtggttaagtatgtataat...</td>\n",
       "    </tr>\n",
       "    <tr>\n",
       "      <th>1</th>\n",
       "      <td>+</td>\n",
       "      <td>AMPC</td>\n",
       "      <td>\\t\\ttgctatcctgacagttgtcacgctgattggtgtcgttacaat...</td>\n",
       "    </tr>\n",
       "    <tr>\n",
       "      <th>2</th>\n",
       "      <td>+</td>\n",
       "      <td>AROH</td>\n",
       "      <td>\\t\\tgtactagagaactagtgcattagcttatttttttgttatcat...</td>\n",
       "    </tr>\n",
       "    <tr>\n",
       "      <th>3</th>\n",
       "      <td>+</td>\n",
       "      <td>DEOP2</td>\n",
       "      <td>\\taattgtgatgtgtatcgaagtgtgttgcggagtagatgttagaa...</td>\n",
       "    </tr>\n",
       "    <tr>\n",
       "      <th>4</th>\n",
       "      <td>+</td>\n",
       "      <td>LEU1_TRNA</td>\n",
       "      <td>\\ttcgataattaactattgacgaaaagctgaaaaccactagaatgc...</td>\n",
       "    </tr>\n",
       "  </tbody>\n",
       "</table>\n",
       "</div>"
      ],
      "text/plain": [
       "  Class         id                                           Sequence\n",
       "0     +        S10  \\t\\ttactagcaatacgcttgcgttcggtggttaagtatgtataat...\n",
       "1     +       AMPC  \\t\\ttgctatcctgacagttgtcacgctgattggtgtcgttacaat...\n",
       "2     +       AROH  \\t\\tgtactagagaactagtgcattagcttatttttttgttatcat...\n",
       "3     +      DEOP2  \\taattgtgatgtgtatcgaagtgtgttgcggagtagatgttagaa...\n",
       "4     +  LEU1_TRNA  \\ttcgataattaactattgacgaaaagctgaaaaccactagaatgc..."
      ]
     },
     "execution_count": 2,
     "metadata": {},
     "output_type": "execute_result"
    }
   ],
   "source": [
    "# load dataset\n",
    "url = 'https://archive.ics.uci.edu/ml/machine-learning-databases/molecular-biology/promoter-gene-sequences/promoters.data'\n",
    "names = ['Class', 'id', 'Sequence']\n",
    "data = pd.read_csv(url, names = names)\n",
    "data.head()"
   ]
  },
  {
   "cell_type": "code",
   "execution_count": 8,
   "id": "160edc84",
   "metadata": {},
   "outputs": [
    {
     "data": {
      "text/plain": [
       "(106, 3)"
      ]
     },
     "execution_count": 8,
     "metadata": {},
     "output_type": "execute_result"
    }
   ],
   "source": [
    "data.shape"
   ]
  },
  {
   "cell_type": "code",
   "execution_count": 9,
   "id": "dbd17768",
   "metadata": {},
   "outputs": [
    {
     "data": {
      "text/plain": [
       "Class       object\n",
       "id          object\n",
       "Sequence    object\n",
       "dtype: object"
      ]
     },
     "execution_count": 9,
     "metadata": {},
     "output_type": "execute_result"
    }
   ],
   "source": [
    "data.dtypes"
   ]
  },
  {
   "cell_type": "code",
   "execution_count": 10,
   "id": "6a109ce9",
   "metadata": {},
   "outputs": [
    {
     "data": {
      "text/plain": [
       "0      +\n",
       "1      +\n",
       "2      +\n",
       "3      +\n",
       "4      +\n",
       "      ..\n",
       "101    -\n",
       "102    -\n",
       "103    -\n",
       "104    -\n",
       "105    -\n",
       "Name: Class, Length: 106, dtype: object"
      ]
     },
     "execution_count": 10,
     "metadata": {},
     "output_type": "execute_result"
    }
   ],
   "source": [
    "data.loc[:, \"Class\"]"
   ]
  },
  {
   "cell_type": "code",
   "execution_count": 11,
   "id": "46b09bd6",
   "metadata": {},
   "outputs": [
    {
     "data": {
      "text/plain": [
       "0      +\n",
       "1      +\n",
       "2      +\n",
       "3      +\n",
       "4      +\n",
       "      ..\n",
       "101    -\n",
       "102    -\n",
       "103    -\n",
       "104    -\n",
       "105    -\n",
       "Name: Class, Length: 106, dtype: object"
      ]
     },
     "execution_count": 11,
     "metadata": {},
     "output_type": "execute_result"
    }
   ],
   "source": [
    "data[\"Class\"]"
   ]
  },
  {
   "cell_type": "code",
   "execution_count": 12,
   "id": "2fc8ec68",
   "metadata": {},
   "outputs": [
    {
     "data": {
      "text/plain": [
       "+    53\n",
       "-    53\n",
       "Name: Class, dtype: int64"
      ]
     },
     "execution_count": 12,
     "metadata": {},
     "output_type": "execute_result"
    }
   ],
   "source": [
    "# Refining and structuring the data into feature and label\n",
    "classes = data[\"Class\"]\n",
    "classes.value_counts()"
   ]
  },
  {
   "cell_type": "code",
   "execution_count": 13,
   "id": "9262cd3d",
   "metadata": {
    "scrolled": true
   },
   "outputs": [
    {
     "data": {
      "text/plain": [
       "'\\t\\ttaacattaataaataaggaggctctaatggcactcattagccaatcaatcaagaact'"
      ]
     },
     "execution_count": 13,
     "metadata": {},
     "output_type": "execute_result"
    }
   ],
   "source": [
    "# generate a liist of the DNA sequences\n",
    "sequence = list(data[\"Sequence\"])\n",
    "sequence[-1]"
   ]
  },
  {
   "cell_type": "markdown",
   "id": "66ae7018",
   "metadata": {},
   "source": [
    "## Data Preprocessing\n",
    "\n",
    "We will start by removing the `\"\\t\"` (tab) notation from the beginning of each dna sequence"
   ]
  },
  {
   "cell_type": "code",
   "execution_count": 24,
   "id": "f285a7fa",
   "metadata": {},
   "outputs": [],
   "source": [
    "# remove tab from each sequence\n",
    "dic = {}\n",
    "\n",
    "for i, seq in enumerate(sequence):\n",
    "    nucleotides = list(seq) # ['\\t','\\t','t','a','a','c','a',]\n",
    "    nucleotides = [char for char in nucleotides if char != '\\t']\n",
    "    # append class assignment\n",
    "    nucleotides.append(classes[i])\n",
    "    \n",
    "    dic[i] = nucleotides"
   ]
  },
  {
   "cell_type": "code",
   "execution_count": 32,
   "id": "f5bce7c2",
   "metadata": {},
   "outputs": [
    {
     "data": {
      "text/plain": [
       "['\\t',\n",
       " '\\t',\n",
       " 't',\n",
       " 'a',\n",
       " 'a',\n",
       " 'c',\n",
       " 'a',\n",
       " 't',\n",
       " 't',\n",
       " 'a',\n",
       " 'a',\n",
       " 't',\n",
       " 'a',\n",
       " 'a',\n",
       " 'a',\n",
       " 't',\n",
       " 'a',\n",
       " 'a',\n",
       " 'g',\n",
       " 'g',\n",
       " 'a',\n",
       " 'g',\n",
       " 'g',\n",
       " 'c',\n",
       " 't',\n",
       " 'c',\n",
       " 't',\n",
       " 'a',\n",
       " 'a',\n",
       " 't',\n",
       " 'g',\n",
       " 'g',\n",
       " 'c',\n",
       " 'a',\n",
       " 'c',\n",
       " 't',\n",
       " 'c',\n",
       " 'a',\n",
       " 't',\n",
       " 't',\n",
       " 'a',\n",
       " 'g',\n",
       " 'c',\n",
       " 'c',\n",
       " 'a',\n",
       " 'a',\n",
       " 't',\n",
       " 'c',\n",
       " 'a',\n",
       " 'a',\n",
       " 't',\n",
       " 'c',\n",
       " 'a',\n",
       " 'a',\n",
       " 'g',\n",
       " 'a',\n",
       " 'a',\n",
       " 'c',\n",
       " 't']"
      ]
     },
     "execution_count": 32,
     "metadata": {},
     "output_type": "execute_result"
    }
   ],
   "source": [
    "list('\\t\\ttaacattaataaataaggaggctctaatggcactcattagccaatcaatcaagaact')"
   ]
  },
  {
   "cell_type": "code",
   "execution_count": null,
   "id": "45780329",
   "metadata": {},
   "outputs": [],
   "source": []
  }
 ],
 "metadata": {
  "kernelspec": {
   "display_name": "Python 3 (ipykernel)",
   "language": "python",
   "name": "python3"
  },
  "language_info": {
   "codemirror_mode": {
    "name": "ipython",
    "version": 3
   },
   "file_extension": ".py",
   "mimetype": "text/x-python",
   "name": "python",
   "nbconvert_exporter": "python",
   "pygments_lexer": "ipython3",
   "version": "3.10.8"
  }
 },
 "nbformat": 4,
 "nbformat_minor": 5
}
